{
 "cells": [
  {
   "cell_type": "markdown",
   "id": "caf6061a",
   "metadata": {},
   "source": [
    "# Day - 7"
   ]
  },
  {
   "cell_type": "markdown",
   "id": "38aad247",
   "metadata": {},
   "source": [
    "# Strings in Python"
   ]
  },
  {
   "cell_type": "markdown",
   "id": "e9658f78",
   "metadata": {},
   "source": [
    "# Creating strings in Python"
   ]
  },
  {
   "cell_type": "code",
   "execution_count": 2,
   "id": "d047a632",
   "metadata": {},
   "outputs": [
    {
     "name": "stdout",
     "output_type": "stream",
     "text": [
      "Hello\n"
     ]
    }
   ],
   "source": [
    "a = \"Hello\"\n",
    "print(a)"
   ]
  },
  {
   "cell_type": "code",
   "execution_count": 3,
   "id": "29f2c7ae",
   "metadata": {},
   "outputs": [
    {
     "name": "stdout",
     "output_type": "stream",
     "text": [
      "Hello\n"
     ]
    }
   ],
   "source": [
    "a = 'Hello'\n",
    "print(a)"
   ]
  },
  {
   "cell_type": "code",
   "execution_count": 4,
   "id": "2e7e6387",
   "metadata": {},
   "outputs": [
    {
     "name": "stdout",
     "output_type": "stream",
     "text": [
      "we are learning python and this is our day 7 class\n",
      "<class 'str'>\n"
     ]
    }
   ],
   "source": [
    "b = \"we are learning python and this is our day 7 class\"\n",
    "print(b)\n",
    "print(type(b))"
   ]
  },
  {
   "cell_type": "markdown",
   "id": "db1084b4",
   "metadata": {},
   "source": [
    "# Multiline Strings"
   ]
  },
  {
   "cell_type": "code",
   "execution_count": 5,
   "id": "6fd41f3c",
   "metadata": {},
   "outputs": [
    {
     "name": "stdout",
     "output_type": "stream",
     "text": [
      "India, officially the Republic of India (ISO: Bhārat Gaṇarājya),[22] is a country in South Asia. It is the seventh-largest country by area; the most populous country as of June 2023;[23][24] and from the time of its independence in 1947, the world's most populous democracy.[25][26][27] Bounded by the Indian Ocean on the south, the Arabian Sea on the southwest, and the Bay of Bengal on the southeast, it shares land borders with Pakistan to the west;[j] China, Nepal, and Bhutan to the north; and Bangladesh and Myanmar to the east. In the Indian Ocean, India is in the vicinity of Sri Lanka and the Maldives; its Andaman and Nicobar Islands share a maritime border with Thailand, Myanmar, and Indonesia.\n"
     ]
    }
   ],
   "source": [
    "b = \"India, officially the Republic of India (ISO: Bhārat Gaṇarājya),[22] is a country in South Asia. It is the seventh-largest country by area; the most populous country as of June 2023;[23][24] and from the time of its independence in 1947, the world's most populous democracy.[25][26][27] Bounded by the Indian Ocean on the south, the Arabian Sea on the southwest, and the Bay of Bengal on the southeast, it shares land borders with Pakistan to the west;[j] China, Nepal, and Bhutan to the north; and Bangladesh and Myanmar to the east. In the Indian Ocean, India is in the vicinity of Sri Lanka and the Maldives; its Andaman and Nicobar Islands share a maritime border with Thailand, Myanmar, and Indonesia.\"\n",
    "print(b)"
   ]
  },
  {
   "cell_type": "code",
   "execution_count": 6,
   "id": "6d40e1d5",
   "metadata": {},
   "outputs": [
    {
     "name": "stdout",
     "output_type": "stream",
     "text": [
      " India, officially the Republic of India (ISO: Bhārat Gaṇarājya),[22] is a country in South Asia.\n",
      "It is the seventh-largest country by area; the most populous country as of June 2023;\n",
      "[23][24] and from the time of its independence in 1947, the world's most populous democracy.\n",
      "[25][26][27] Bounded by the Indian Ocean on the south, the Arabian Sea on the southwest,\n",
      "and the Bay of Bengal on the southeast, it shares land borders with Pakistan to the west;\n",
      "[j] China, Nepal, and Bhutan to the north; and Bangladesh and Myanmar to the east. In the Indian Ocean, \n",
      "India is in the vicinity of Sri Lanka and the Maldives; its Andaman and Nicobar Islands share a maritime\n",
      "border with Thailand, Myanmar, and Indonesia. \n"
     ]
    }
   ],
   "source": [
    "b = \"\"\" India, officially the Republic of India (ISO: Bhārat Gaṇarājya),[22] is a country in South Asia.\n",
    "It is the seventh-largest country by area; the most populous country as of June 2023;\n",
    "[23][24] and from the time of its independence in 1947, the world's most populous democracy.\n",
    "[25][26][27] Bounded by the Indian Ocean on the south, the Arabian Sea on the southwest,\n",
    "and the Bay of Bengal on the southeast, it shares land borders with Pakistan to the west;\n",
    "[j] China, Nepal, and Bhutan to the north; and Bangladesh and Myanmar to the east. In the Indian Ocean, \n",
    "India is in the vicinity of Sri Lanka and the Maldives; its Andaman and Nicobar Islands share a maritime\n",
    "border with Thailand, Myanmar, and Indonesia. \"\"\"\n",
    "print(b)"
   ]
  },
  {
   "cell_type": "code",
   "execution_count": 18,
   "id": "4dcd5781",
   "metadata": {},
   "outputs": [
    {
     "name": "stdout",
     "output_type": "stream",
     "text": [
      "712\n"
     ]
    }
   ],
   "source": [
    "print(len(b))"
   ]
  },
  {
   "cell_type": "markdown",
   "id": "61281a2f",
   "metadata": {},
   "source": [
    "# Indexing of Strings"
   ]
  },
  {
   "cell_type": "code",
   "execution_count": 7,
   "id": "f940c077",
   "metadata": {},
   "outputs": [
    {
     "name": "stdout",
     "output_type": "stream",
     "text": [
      "n\n"
     ]
    }
   ],
   "source": [
    "a = \"hello students\"\n",
    "print(a[11])"
   ]
  },
  {
   "cell_type": "code",
   "execution_count": 8,
   "id": "9fcddb8c",
   "metadata": {},
   "outputs": [
    {
     "name": "stdout",
     "output_type": "stream",
     "text": [
      "t\n"
     ]
    }
   ],
   "source": [
    "a = \"hello students\"\n",
    "print(a[-2])"
   ]
  },
  {
   "cell_type": "code",
   "execution_count": 12,
   "id": "2de3de98",
   "metadata": {},
   "outputs": [
    {
     "name": "stdout",
     "output_type": "stream",
     "text": [
      "s\n"
     ]
    }
   ],
   "source": [
    "a = \"How's your studies going on?\"\n",
    "print(a[11])"
   ]
  },
  {
   "cell_type": "code",
   "execution_count": 11,
   "id": "cb0f26ff",
   "metadata": {},
   "outputs": [
    {
     "name": "stdout",
     "output_type": "stream",
     "text": [
      "?\n"
     ]
    }
   ],
   "source": [
    "a = \"How's your studies going on?\"\n",
    "print(a[-1])"
   ]
  },
  {
   "cell_type": "markdown",
   "id": "eb3f5ce8",
   "metadata": {},
   "source": [
    "# Slicing of Strings"
   ]
  },
  {
   "cell_type": "code",
   "execution_count": 15,
   "id": "154c30b1",
   "metadata": {},
   "outputs": [
    {
     "name": "stdout",
     "output_type": "stream",
     "text": [
      "Students how\n"
     ]
    }
   ],
   "source": [
    "s = \"Hello Students how are you ?\"\n",
    "print(s[6:18])"
   ]
  },
  {
   "cell_type": "code",
   "execution_count": 16,
   "id": "352196f0",
   "metadata": {},
   "outputs": [
    {
     "name": "stdout",
     "output_type": "stream",
     "text": [
      "HloSuet o \n"
     ]
    }
   ],
   "source": [
    "s = \"Hello Students how are you ?\"\n",
    "print(s[0:20:2])"
   ]
  },
  {
   "cell_type": "code",
   "execution_count": 17,
   "id": "ecb7f4ac",
   "metadata": {},
   "outputs": [
    {
     "name": "stdout",
     "output_type": "stream",
     "text": [
      "? uoy era woh stnedutS olleH\n"
     ]
    }
   ],
   "source": [
    "#reversing the strings\n",
    "s = \"Hello Students how are you ?\"\n",
    "print(s[::-1])"
   ]
  },
  {
   "cell_type": "markdown",
   "id": "58cb3527",
   "metadata": {},
   "source": [
    "# finding the length of a string"
   ]
  },
  {
   "cell_type": "code",
   "execution_count": 19,
   "id": "4905942a",
   "metadata": {},
   "outputs": [
    {
     "name": "stdout",
     "output_type": "stream",
     "text": [
      "30\n"
     ]
    }
   ],
   "source": [
    "a = \"this is our day 7 python class\"\n",
    "print(len(a))"
   ]
  },
  {
   "cell_type": "code",
   "execution_count": 21,
   "id": "44c65b03",
   "metadata": {},
   "outputs": [
    {
     "name": "stdout",
     "output_type": "stream",
     "text": [
      "hello world\n",
      "11\n"
     ]
    }
   ],
   "source": [
    "b = \"hello world\"\n",
    "print(b)\n",
    "print(len(b))"
   ]
  },
  {
   "cell_type": "markdown",
   "id": "21afdf8f",
   "metadata": {},
   "source": [
    "# Upper Method"
   ]
  },
  {
   "cell_type": "code",
   "execution_count": 22,
   "id": "1d79d7d6",
   "metadata": {},
   "outputs": [
    {
     "name": "stdout",
     "output_type": "stream",
     "text": [
      "HELLO HOW ARE YOU\n"
     ]
    }
   ],
   "source": [
    "a = \"hello how are you\"\n",
    "print(a.upper())"
   ]
  },
  {
   "cell_type": "markdown",
   "id": "4b8f806e",
   "metadata": {},
   "source": [
    "# Lower Method"
   ]
  },
  {
   "cell_type": "code",
   "execution_count": 23,
   "id": "4c9a5e65",
   "metadata": {},
   "outputs": [
    {
     "name": "stdout",
     "output_type": "stream",
     "text": [
      "hello students\n"
     ]
    }
   ],
   "source": [
    "a = \"HELLO STUDENTS\"\n",
    "print(a.lower())"
   ]
  },
  {
   "cell_type": "markdown",
   "id": "c0e8919f",
   "metadata": {},
   "source": [
    "# Replace Function"
   ]
  },
  {
   "cell_type": "code",
   "execution_count": 24,
   "id": "6ee0124a",
   "metadata": {},
   "outputs": [
    {
     "name": "stdout",
     "output_type": "stream",
     "text": [
      "bye how are you\n"
     ]
    }
   ],
   "source": [
    "a = \"hello how are you\"\n",
    "print(a.replace(\"hello\",\"bye\"))"
   ]
  },
  {
   "cell_type": "code",
   "execution_count": 25,
   "id": "038b05b7",
   "metadata": {},
   "outputs": [
    {
     "name": "stdout",
     "output_type": "stream",
     "text": [
      "hello how are sou\n"
     ]
    }
   ],
   "source": [
    "a = \"hello how are you\"\n",
    "print(a.replace(\"y\",\"s\"))"
   ]
  },
  {
   "cell_type": "code",
   "execution_count": 27,
   "id": "425feaee",
   "metadata": {},
   "outputs": [
    {
     "name": "stdout",
     "output_type": "stream",
     "text": [
      "hello world\n",
      "hello students\n"
     ]
    }
   ],
   "source": [
    "b = \"hello world\"\n",
    "print(b)\n",
    "print(b.replace(\"world\",\"students\"))"
   ]
  },
  {
   "cell_type": "markdown",
   "id": "2ce167aa",
   "metadata": {},
   "source": [
    "# Find Method"
   ]
  },
  {
   "cell_type": "code",
   "execution_count": 28,
   "id": "b1fe5b2c",
   "metadata": {},
   "outputs": [
    {
     "name": "stdout",
     "output_type": "stream",
     "text": [
      "10\n"
     ]
    }
   ],
   "source": [
    "a = \"python is great\"\n",
    "b = a.find(\"g\")\n",
    "print(b)"
   ]
  },
  {
   "cell_type": "code",
   "execution_count": 29,
   "id": "19e0552b",
   "metadata": {},
   "outputs": [
    {
     "name": "stdout",
     "output_type": "stream",
     "text": [
      "3\n"
     ]
    }
   ],
   "source": [
    "a = \"python is great\"\n",
    "b = a.find(\"h\")\n",
    "print(b)"
   ]
  },
  {
   "cell_type": "code",
   "execution_count": 30,
   "id": "1e1bea24",
   "metadata": {},
   "outputs": [
    {
     "name": "stdout",
     "output_type": "stream",
     "text": [
      "2\n"
     ]
    }
   ],
   "source": [
    "a = \"python is great\"\n",
    "b = a.find(\"t\")\n",
    "print(b)"
   ]
  },
  {
   "cell_type": "code",
   "execution_count": null,
   "id": "dbd70762",
   "metadata": {},
   "outputs": [],
   "source": []
  }
 ],
 "metadata": {
  "kernelspec": {
   "display_name": "Python 3 (ipykernel)",
   "language": "python",
   "name": "python3"
  },
  "language_info": {
   "codemirror_mode": {
    "name": "ipython",
    "version": 3
   },
   "file_extension": ".py",
   "mimetype": "text/x-python",
   "name": "python",
   "nbconvert_exporter": "python",
   "pygments_lexer": "ipython3",
   "version": "3.11.4"
  }
 },
 "nbformat": 4,
 "nbformat_minor": 5
}
